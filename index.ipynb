{
 "cells": [
  {
   "cell_type": "markdown",
   "source": [
    "This is a [jupyter](https://jupyter.org/) notebook that contains text, equations, images and executable code in one document."
   ],
   "metadata": {}
  },
  {
   "cell_type": "markdown",
   "source": [
    "# Theoretical Acoustics Notebooks\n",
    "\n",
    "This are some [jupyter](https://jupyter.org/) notebooks that complement the lectures for the course on theoretical acoustics at TU Berlin. To use them, clone or copy the repository including all files to your computer. You will need a [Python 3](https://python.org) installation such as [Anaconda](https://anaconda.com/distribution) with the usual scientific packages present. For correct rendering the use of jupyter LaTex [extensions](https://anaconda.org/conda-forge/jupyter_contrib_nbextensions) is recommended."
   ],
   "metadata": {}
  },
  {
   "cell_type": "markdown",
   "source": [
    "## Table of Contents\n",
    "\n",
    "1. [Wave animations](./Wave_animations.ipynb)\n",
    "2. [Solutions to the wave equation animations](./Wave_equation_3D_solutions.ipynb)\n",
    "3. [Multiple_point_sources](./multiple_point_sources.ipynb)\n",
    "4. [Plane radiation](./plane_radiation.ipynb)\n",
    "5. [Radiation from circular piston](./piston_radiator.ipynb)\n",
    "6. [Radiation from cylinder](./Cylinder_radiation.ipynb)\n",
    "7. [Scattering by a sphere](./Sphere_sacttering.ipynb)\n",
    "8. [Diffraction by a screen 1](./Diffraction_screen_1.ipynb)\n",
    "9. [Diffraction by a screen 2](./Diffraction_screen_2.ipynb)"
   ],
   "metadata": {}
  },
  {
   "cell_type": "markdown",
   "source": [
    "#### License\n",
    "\n",
    "This notebook is an [Open Educational Resource](https://en.wikipedia.org/wiki/Open_educational_resources). Feel free to use it for your own purposes. The text and the images are licensed under [Creative Commons Attribution 4.0](https://creativecommons.org/licenses/by/4.0/), and any code under the [MIT license](https://opensource.org/licenses/MIT). Please attribute the work as follows: Ennes Sarradj, Theoretical Acoustics Notebooks, 2021 --."
   ],
   "metadata": {}
  },
  {
   "cell_type": "code",
   "execution_count": null,
   "source": [],
   "outputs": [],
   "metadata": {}
  }
 ],
 "metadata": {
  "celltoolbar": "Raw Cell Format",
  "interpreter": {
   "hash": "4202e3677054aa01a30d6c8c5a254c7b6f4b5fb70d3458fd5629f6eed85dadfb"
  },
  "kernelspec": {
   "display_name": "Python 3.7.10 64-bit ('mayavi2': conda)",
   "name": "python3"
  },
  "language_info": {
   "name": "python",
   "version": ""
  },
  "latex_envs": {
   "LaTeX_envs_menu_present": true,
   "autoclose": true,
   "autocomplete": true,
   "bibliofile": "biblio.bib",
   "cite_by": "apalike",
   "current_citInitial": 1,
   "eqLabelWithNumbers": true,
   "eqNumInitial": 1,
   "hotkeys": {
    "equation": "Ctrl-E",
    "itemize": "Ctrl-I"
   },
   "labels_anchors": false,
   "latex_user_defs": true,
   "report_style_numbering": false,
   "user_envs_cfg": false
  },
  "varInspector": {
   "cols": {
    "lenName": 16,
    "lenType": 16,
    "lenVar": 40
   },
   "kernels_config": {
    "python": {
     "delete_cmd_postfix": "",
     "delete_cmd_prefix": "del ",
     "library": "var_list.py",
     "varRefreshCmd": "print(var_dic_list())"
    },
    "r": {
     "delete_cmd_postfix": ") ",
     "delete_cmd_prefix": "rm(",
     "library": "var_list.r",
     "varRefreshCmd": "cat(var_dic_list()) "
    }
   },
   "oldHeight": 122.466666,
   "position": {
    "height": "296px",
    "left": "1107px",
    "right": "37px",
    "top": "141px",
    "width": "328px"
   },
   "types_to_exclude": [
    "module",
    "function",
    "builtin_function_or_method",
    "instance",
    "_Feature"
   ],
   "varInspector_section_display": "block",
   "window_display": false
  }
 },
 "nbformat": 4,
 "nbformat_minor": 2
}