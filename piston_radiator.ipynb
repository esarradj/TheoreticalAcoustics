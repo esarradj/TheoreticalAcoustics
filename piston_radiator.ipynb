{
 "cells": [
  {
   "cell_type": "markdown",
   "metadata": {},
   "source": [
    "This is a [jupyter](https://jupyter.org/) notebook that contains text, equations, images and executable code in one document."
   ]
  },
  {
   "cell_type": "markdown",
   "metadata": {},
   "source": [
    "# Piston radiator\n",
    "This notebooks shows some results for the sound field of a circular piston radiator."
   ]
  },
  {
   "cell_type": "code",
   "execution_count": 1,
   "metadata": {
    "nbpresent": {
     "id": "485252c2-1bd2-4c0d-bc28-8bba9577897b"
    }
   },
   "outputs": [],
   "source": [
    "%matplotlib inline\n",
    "from ipywidgets import *\n",
    "from pylab import *\n",
    "rcParams['figure.figsize'] = (8.0, 8.0)"
   ]
  },
  {
   "cell_type": "markdown",
   "metadata": {},
   "source": [
    "We consider the sound field alog the axis perpendicular to the radiator. The $z$-coordinate is given in multiples of the wavelength."
   ]
  },
  {
   "cell_type": "code",
   "execution_count": 2,
   "metadata": {},
   "outputs": [
    {
     "data": {
      "application/vnd.jupyter.widget-view+json": {
       "model_id": "075fc2dc2fd044e68ad1be29cbe10952",
       "version_major": 2,
       "version_minor": 0
      },
      "text/plain": [
       "interactive(children=(FloatSlider(value=5.1000000000000005, description='He', max=10.0, min=0.3), Output()), _…"
      ]
     },
     "metadata": {},
     "output_type": "display_data"
    }
   ],
   "source": [
    "z = arange(0,10,0.02)\n",
    "\n",
    "@interact(He=(0.3,10,0.1))\n",
    "def pltdir2(He):\n",
    "    plot(z,10*log10(0.5*abs(1-exp(-1j *2*pi*(sqrt(He*He+z*z)-z))))) \n",
    "    ylim(-20,0)\n",
    "    show()"
   ]
  }
 ],
 "metadata": {
  "anaconda-cloud": {},
  "kernelspec": {
   "display_name": "Python 3",
   "language": "python",
   "name": "python3"
  },
  "language_info": {
   "codemirror_mode": {
    "name": "ipython",
    "version": 3
   },
   "file_extension": ".py",
   "mimetype": "text/x-python",
   "name": "python",
   "nbconvert_exporter": "python",
   "pygments_lexer": "ipython3",
   "version": "3.7.10"
  },
  "nbpresent": {
   "slides": {
    "0e102550-fe31-456e-857c-c0485e584250": {
     "id": "0e102550-fe31-456e-857c-c0485e584250",
     "prev": null,
     "regions": {
      "72fe331a-ac7d-4b1c-b242-31d079441307": {
       "attrs": {
        "height": 0.8,
        "width": 0.8,
        "x": 0.1,
        "y": 0.1
       },
       "content": {
        "cell": "485252c2-1bd2-4c0d-bc28-8bba9577897b",
        "part": "whole"
       },
       "id": "72fe331a-ac7d-4b1c-b242-31d079441307"
      }
     }
    },
    "3520bda3-e860-4fd4-884a-a0caf6e665e9": {
     "id": "3520bda3-e860-4fd4-884a-a0caf6e665e9",
     "prev": "d21381df-3205-4870-88ed-45760673fbbd",
     "regions": {
      "3d327626-0938-490a-9dfd-48eb2341ed20": {
       "attrs": {
        "height": 0.8,
        "width": 0.8,
        "x": 0.1,
        "y": 0.1
       },
       "content": {
        "cell": "0709eab3-1f7f-45c2-a718-6627bb524e61",
        "part": "whole"
       },
       "id": "3d327626-0938-490a-9dfd-48eb2341ed20"
      }
     }
    },
    "d21381df-3205-4870-88ed-45760673fbbd": {
     "id": "d21381df-3205-4870-88ed-45760673fbbd",
     "prev": "f0134781-6282-4ef7-83aa-7f0b8926c117",
     "regions": {
      "461be3b1-8dd9-4c82-aef1-b3c2d6496f48": {
       "attrs": {
        "height": 0.8,
        "width": 0.8,
        "x": 0.1,
        "y": 0.1
       },
       "content": {
        "cell": "d675781c-dd40-40d6-990a-17378b7a7515",
        "part": "whole"
       },
       "id": "461be3b1-8dd9-4c82-aef1-b3c2d6496f48"
      }
     },
     "theme": null
    },
    "f0134781-6282-4ef7-83aa-7f0b8926c117": {
     "id": "f0134781-6282-4ef7-83aa-7f0b8926c117",
     "prev": "0e102550-fe31-456e-857c-c0485e584250",
     "regions": {
      "74055ff3-36d2-42de-a45c-36150248b8f2": {
       "attrs": {
        "height": 0.8,
        "width": 0.8,
        "x": 0.1,
        "y": 0.1
       },
       "content": {
        "cell": "9d04679c-1006-4fd0-ad6d-f04e13e82fe0",
        "part": "whole"
       },
       "id": "74055ff3-36d2-42de-a45c-36150248b8f2"
      }
     }
    }
   },
   "themes": {
    "default": "22183c17-9745-4bb1-b4ae-1af111115586",
    "theme": {
     "22183c17-9745-4bb1-b4ae-1af111115586": {
      "id": "22183c17-9745-4bb1-b4ae-1af111115586",
      "palette": {
       "19cc588f-0593-49c9-9f4b-e4d7cc113b1c": {
        "id": "19cc588f-0593-49c9-9f4b-e4d7cc113b1c",
        "rgb": [
         252,
         252,
         252
        ]
       },
       "31af15d2-7e15-44c5-ab5e-e04b16a89eff": {
        "id": "31af15d2-7e15-44c5-ab5e-e04b16a89eff",
        "rgb": [
         68,
         68,
         68
        ]
       },
       "50f92c45-a630-455b-aec3-788680ec7410": {
        "id": "50f92c45-a630-455b-aec3-788680ec7410",
        "rgb": [
         155,
         177,
         192
        ]
       },
       "c5cc3653-2ee1-402a-aba2-7caae1da4f6c": {
        "id": "c5cc3653-2ee1-402a-aba2-7caae1da4f6c",
        "rgb": [
         43,
         126,
         184
        ]
       },
       "efa7f048-9acb-414c-8b04-a26811511a21": {
        "id": "efa7f048-9acb-414c-8b04-a26811511a21",
        "rgb": [
         25.118061674008803,
         73.60176211453744,
         107.4819383259912
        ]
       }
      },
      "rules": {
       "blockquote": {
        "color": "50f92c45-a630-455b-aec3-788680ec7410"
       },
       "code": {
        "font-family": "Anonymous Pro"
       },
       "h1": {
        "color": "c5cc3653-2ee1-402a-aba2-7caae1da4f6c",
        "font-family": "Lato",
        "font-size": 8
       },
       "h2": {
        "color": "c5cc3653-2ee1-402a-aba2-7caae1da4f6c",
        "font-family": "Lato",
        "font-size": 6
       },
       "h3": {
        "color": "50f92c45-a630-455b-aec3-788680ec7410",
        "font-family": "Lato",
        "font-size": 5.5
       },
       "h4": {
        "color": "c5cc3653-2ee1-402a-aba2-7caae1da4f6c",
        "font-family": "Lato",
        "font-size": 5
       },
       "h5": {
        "font-family": "Lato"
       },
       "h6": {
        "font-family": "Lato"
       },
       "h7": {
        "font-family": "Lato"
       },
       "pre": {
        "font-family": "Anonymous Pro",
        "font-size": 4
       }
      },
      "text-base": {
       "font-family": "Merriweather",
       "font-size": 4
      }
     },
     "e135094e-af81-4ba4-8e45-0a970fb0ec81": {
      "id": "e135094e-af81-4ba4-8e45-0a970fb0ec81",
      "palette": {
       "19cc588f-0593-49c9-9f4b-e4d7cc113b1c": {
        "id": "19cc588f-0593-49c9-9f4b-e4d7cc113b1c",
        "rgb": [
         252,
         252,
         252
        ]
       },
       "31af15d2-7e15-44c5-ab5e-e04b16a89eff": {
        "id": "31af15d2-7e15-44c5-ab5e-e04b16a89eff",
        "rgb": [
         68,
         68,
         68
        ]
       },
       "50f92c45-a630-455b-aec3-788680ec7410": {
        "id": "50f92c45-a630-455b-aec3-788680ec7410",
        "rgb": [
         155,
         177,
         192
        ]
       },
       "c5cc3653-2ee1-402a-aba2-7caae1da4f6c": {
        "id": "c5cc3653-2ee1-402a-aba2-7caae1da4f6c",
        "rgb": [
         43,
         126,
         184
        ]
       },
       "efa7f048-9acb-414c-8b04-a26811511a21": {
        "id": "efa7f048-9acb-414c-8b04-a26811511a21",
        "rgb": [
         25.118061674008803,
         73.60176211453744,
         107.4819383259912
        ]
       }
      },
      "rules": {
       "blockquote": {
        "color": "50f92c45-a630-455b-aec3-788680ec7410"
       },
       "code": {
        "font-family": "Anonymous Pro"
       },
       "h1": {
        "color": "c5cc3653-2ee1-402a-aba2-7caae1da4f6c",
        "font-family": "Lato",
        "font-size": 8
       },
       "h2": {
        "color": "c5cc3653-2ee1-402a-aba2-7caae1da4f6c",
        "font-family": "Lato",
        "font-size": 6
       },
       "h3": {
        "color": "50f92c45-a630-455b-aec3-788680ec7410",
        "font-family": "Lato",
        "font-size": 5.5
       },
       "h4": {
        "color": "c5cc3653-2ee1-402a-aba2-7caae1da4f6c",
        "font-family": "Lato",
        "font-size": 5
       },
       "h5": {
        "font-family": "Lato"
       },
       "h6": {
        "font-family": "Lato"
       },
       "h7": {
        "font-family": "Lato"
       },
       "pre": {
        "font-family": "Anonymous Pro",
        "font-size": 4
       }
      },
      "text-base": {
       "font-family": "Merriweather",
       "font-size": 4
      }
     }
    }
   }
  },
  "varInspector": {
   "cols": {
    "lenName": 16,
    "lenType": 16,
    "lenVar": 40
   },
   "kernels_config": {
    "python": {
     "delete_cmd_postfix": "",
     "delete_cmd_prefix": "del ",
     "library": "var_list.py",
     "varRefreshCmd": "print(var_dic_list())"
    },
    "r": {
     "delete_cmd_postfix": ") ",
     "delete_cmd_prefix": "rm(",
     "library": "var_list.r",
     "varRefreshCmd": "cat(var_dic_list()) "
    }
   },
   "types_to_exclude": [
    "module",
    "function",
    "builtin_function_or_method",
    "instance",
    "_Feature"
   ],
   "window_display": false
  },
  "widgets": {
   "application/vnd.jupyter.widget-state+json": {
    "state": {
     "075fc2dc2fd044e68ad1be29cbe10952": {
      "model_module": "@jupyter-widgets/controls",
      "model_module_version": "1.5.0",
      "model_name": "VBoxModel",
      "state": {
       "_dom_classes": [
        "widget-interact"
       ],
       "children": [
        "IPY_MODEL_c09bff0c89af43bebc5b3660ce3e0541",
        "IPY_MODEL_40e89c4d90dc43c6bbda3cdbeb826294"
       ],
       "layout": "IPY_MODEL_eff36ca284ef4d5cb79f62ba244697e2"
      }
     },
     "08aa0f29c1ab4d20bfb58d28dfffee9e": {
      "model_module": "@jupyter-widgets/controls",
      "model_module_version": "1.5.0",
      "model_name": "SliderStyleModel",
      "state": {
       "description_width": ""
      }
     },
     "13a5ee5f03054540bedca3bf4c709eda": {
      "model_module": "@jupyter-widgets/base",
      "model_module_version": "1.2.0",
      "model_name": "LayoutModel",
      "state": {}
     },
     "32d724a66ab946d986e535b5bffd3519": {
      "model_module": "@jupyter-widgets/base",
      "model_module_version": "1.2.0",
      "model_name": "LayoutModel",
      "state": {}
     },
     "40e89c4d90dc43c6bbda3cdbeb826294": {
      "model_module": "@jupyter-widgets/output",
      "model_module_version": "1.0.0",
      "model_name": "OutputModel",
      "state": {
       "layout": "IPY_MODEL_a6bff98a1385460b8508e1ac614524e9",
       "outputs": [
        {
         "data": {
          "image/png": "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\n",
          "text/plain": "<Figure size 576x576 with 1 Axes>"
         },
         "metadata": {
          "needs_background": "light"
         },
         "output_type": "display_data"
        }
       ]
      }
     },
     "4e901ee50a2244478ae7d89654871576": {
      "model_module": "@jupyter-widgets/output",
      "model_module_version": "1.0.0",
      "model_name": "OutputModel",
      "state": {
       "layout": "IPY_MODEL_32d724a66ab946d986e535b5bffd3519",
       "outputs": [
        {
         "data": {
          "image/png": "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\n",
          "text/plain": "<Figure size 576x576 with 1 Axes>"
         },
         "metadata": {
          "needs_background": "light"
         },
         "output_type": "display_data"
        }
       ]
      }
     },
     "5347a54368c445fa8a3f0dc28b1e8d85": {
      "model_module": "@jupyter-widgets/controls",
      "model_module_version": "1.5.0",
      "model_name": "FloatSliderModel",
      "state": {
       "description": "He",
       "layout": "IPY_MODEL_e0d80c6db1a84796b06ed0716200ff53",
       "max": 10,
       "min": 0.1,
       "step": 0.1,
       "style": "IPY_MODEL_5c65cfc7e8d34f8eaabae4b064650c30",
       "value": 5
      }
     },
     "57ccffbb7cfa428d8921234233adc164": {
      "model_module": "@jupyter-widgets/controls",
      "model_module_version": "1.5.0",
      "model_name": "VBoxModel",
      "state": {
       "_dom_classes": [
        "widget-interact"
       ],
       "children": [
        "IPY_MODEL_aac211ceb93141879d7378215d26f3c4",
        "IPY_MODEL_c5cd0972d7994652967c1cc6f1fc1476"
       ],
       "layout": "IPY_MODEL_db8d4a6a277944829bd8c55496f46dbf"
      }
     },
     "5c65cfc7e8d34f8eaabae4b064650c30": {
      "model_module": "@jupyter-widgets/controls",
      "model_module_version": "1.5.0",
      "model_name": "SliderStyleModel",
      "state": {
       "description_width": ""
      }
     },
     "5cedf87160df431c9ca6822bb1430d75": {
      "model_module": "@jupyter-widgets/base",
      "model_module_version": "1.2.0",
      "model_name": "LayoutModel",
      "state": {}
     },
     "81e61fd3dd904f7eadd9af179e765965": {
      "model_module": "@jupyter-widgets/base",
      "model_module_version": "1.2.0",
      "model_name": "LayoutModel",
      "state": {}
     },
     "8402a722436944bca9a8505d38627b77": {
      "model_module": "@jupyter-widgets/controls",
      "model_module_version": "1.5.0",
      "model_name": "SliderStyleModel",
      "state": {
       "description_width": ""
      }
     },
     "93366718d9bc4225b190bf7722d62fde": {
      "model_module": "@jupyter-widgets/controls",
      "model_module_version": "1.5.0",
      "model_name": "VBoxModel",
      "state": {
       "_dom_classes": [
        "widget-interact"
       ],
       "children": [
        "IPY_MODEL_5347a54368c445fa8a3f0dc28b1e8d85",
        "IPY_MODEL_4e901ee50a2244478ae7d89654871576"
       ],
       "layout": "IPY_MODEL_81e61fd3dd904f7eadd9af179e765965"
      }
     },
     "a6bff98a1385460b8508e1ac614524e9": {
      "model_module": "@jupyter-widgets/base",
      "model_module_version": "1.2.0",
      "model_name": "LayoutModel",
      "state": {}
     },
     "aac211ceb93141879d7378215d26f3c4": {
      "model_module": "@jupyter-widgets/controls",
      "model_module_version": "1.5.0",
      "model_name": "FloatSliderModel",
      "state": {
       "description": "He",
       "layout": "IPY_MODEL_ab10457386824679a40afd9b7d564608",
       "max": 10,
       "min": 0.1,
       "step": 0.1,
       "style": "IPY_MODEL_8402a722436944bca9a8505d38627b77",
       "value": 0.1
      }
     },
     "ab10457386824679a40afd9b7d564608": {
      "model_module": "@jupyter-widgets/base",
      "model_module_version": "1.2.0",
      "model_name": "LayoutModel",
      "state": {}
     },
     "c09bff0c89af43bebc5b3660ce3e0541": {
      "model_module": "@jupyter-widgets/controls",
      "model_module_version": "1.5.0",
      "model_name": "FloatSliderModel",
      "state": {
       "description": "He",
       "layout": "IPY_MODEL_13a5ee5f03054540bedca3bf4c709eda",
       "max": 10,
       "min": 0.3,
       "step": 0.1,
       "style": "IPY_MODEL_08aa0f29c1ab4d20bfb58d28dfffee9e",
       "value": 5.1000000000000005
      }
     },
     "c5cd0972d7994652967c1cc6f1fc1476": {
      "model_module": "@jupyter-widgets/output",
      "model_module_version": "1.0.0",
      "model_name": "OutputModel",
      "state": {
       "layout": "IPY_MODEL_5cedf87160df431c9ca6822bb1430d75",
       "outputs": [
        {
         "data": {
          "image/png": "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\n",
          "text/plain": "<Figure size 576x576 with 1 Axes>"
         },
         "metadata": {
          "needs_background": "light"
         },
         "output_type": "display_data"
        }
       ]
      }
     },
     "db8d4a6a277944829bd8c55496f46dbf": {
      "model_module": "@jupyter-widgets/base",
      "model_module_version": "1.2.0",
      "model_name": "LayoutModel",
      "state": {}
     },
     "e0d80c6db1a84796b06ed0716200ff53": {
      "model_module": "@jupyter-widgets/base",
      "model_module_version": "1.2.0",
      "model_name": "LayoutModel",
      "state": {}
     },
     "eff36ca284ef4d5cb79f62ba244697e2": {
      "model_module": "@jupyter-widgets/base",
      "model_module_version": "1.2.0",
      "model_name": "LayoutModel",
      "state": {}
     }
    },
    "version_major": 2,
    "version_minor": 0
   }
  }
 },
 "nbformat": 4,
 "nbformat_minor": 1
}
