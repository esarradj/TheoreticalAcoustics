{
 "cells": [
  {
   "cell_type": "markdown",
   "metadata": {},
   "source": [
    "This is a [jupyter](https://jupyter.org/) notebook that contains text, equations, images and executable code in one document."
   ]
  },
  {
   "cell_type": "markdown",
   "metadata": {},
   "source": [
    "# Diffraction by a screen #1\n",
    "This notebook shows an approximation to the sound field after diffraction of a plane wave by a screen."
   ]
  },
  {
   "cell_type": "code",
   "execution_count": 1,
   "metadata": {
    "nbpresent": {
     "id": "485252c2-1bd2-4c0d-bc28-8bba9577897b"
    }
   },
   "outputs": [],
   "source": [
    "%matplotlib inline\n",
    "from ipywidgets import *\n",
    "from IPython.display import *\n",
    "from pylab import *\n",
    "import scipy.special as ss\n",
    "rcParams['figure.figsize'] = (8.0, 8.0)"
   ]
  },
  {
   "cell_type": "markdown",
   "metadata": {},
   "source": [
    "First, the amplitude of the sound pressure relative to that in the incident plane wave is plotted on a plane parallel to screen in a distance $x$ and for a wavenumber $k$. "
   ]
  },
  {
   "cell_type": "code",
   "execution_count": 2,
   "metadata": {
    "scrolled": false
   },
   "outputs": [
    {
     "data": {
      "application/vnd.jupyter.widget-view+json": {
       "model_id": "14e03ce9729c4c4cbd0d24b45c884d66",
       "version_major": 2,
       "version_minor": 0
      },
      "text/plain": [
       "interactive(children=(FloatSlider(value=5.0, description='x', max=10.0, min=0.1), IntSlider(value=1, descripti…"
      ]
     },
     "metadata": {},
     "output_type": "display_data"
    },
    {
     "data": {
      "text/plain": [
       "<function __main__.pltp(x, k=1)>"
      ]
     },
     "execution_count": 2,
     "metadata": {},
     "output_type": "execute_result"
    }
   ],
   "source": [
    "y = arange(-5,5.0,0.001)\n",
    "def pltp(x,k=1):\n",
    "    s,c = ss.fresnel(y*sqrt(k/(pi*x)))\n",
    "    plot(0.5*abs(1+s+c+1j*(c-s)),y)\n",
    "    xlabel(r'$p/p_0$')\n",
    "    ylabel('y')\n",
    "    #ylim(0,20)\n",
    "    show()\n",
    "interact(pltp,x=(0.1,10,0.1),k=(1,10),continuous_update=False)"
   ]
  },
  {
   "cell_type": "markdown",
   "metadata": {},
   "source": [
    "It turns out that only near to the screen ($y<0$) and for high frequencies (high $k$) the effect of the screen is relevant."
   ]
  },
  {
   "cell_type": "markdown",
   "metadata": {},
   "source": [
    "Now, we plot the whole sound field behind the map in form of the insertion loss (sound pressure level difference to the situation without screen or just the incoming plane wave)."
   ]
  },
  {
   "cell_type": "code",
   "execution_count": 3,
   "metadata": {},
   "outputs": [
    {
     "data": {
      "application/vnd.jupyter.widget-view+json": {
       "model_id": "5eebf9d0f23a4cd89f3f195b20ceb8f6",
       "version_major": 2,
       "version_minor": 0
      },
      "text/plain": [
       "interactive(children=(FloatSlider(value=5.0, description='k', max=10.0, min=0.1), Output()), _dom_classes=('wi…"
      ]
     },
     "metadata": {},
     "output_type": "display_data"
    },
    {
     "data": {
      "text/plain": [
       "<function __main__.pltfield(k)>"
      ]
     },
     "execution_count": 3,
     "metadata": {},
     "output_type": "execute_result"
    }
   ],
   "source": [
    "y = arange(-5,5,0.1)[:,newaxis]\n",
    "x = arange(0.1,10,0.1)[newaxis,:]\n",
    "def pltfield(k):\n",
    "    s,c = ss.fresnel(y*sqrt(k/(pi*x)))\n",
    "    imshow(20*log10(0.5*abs(1+s+c+1j*(c-s))), origin='lower', extent=(0.1,9.9,-5,4.9), vmin=-20,vmax=1)\n",
    "    colorbar()\n",
    "    show()\n",
    "interact(pltfield,k=(0.1,10,0.1))"
   ]
  }
 ],
 "metadata": {
  "anaconda-cloud": {},
  "kernelspec": {
   "display_name": "Python 3",
   "language": "python",
   "name": "python3"
  },
  "language_info": {
   "codemirror_mode": {
    "name": "ipython",
    "version": 3
   },
   "file_extension": ".py",
   "mimetype": "text/x-python",
   "name": "python",
   "nbconvert_exporter": "python",
   "pygments_lexer": "ipython3",
   "version": "3.7.10"
  },
  "nbpresent": {
   "slides": {
    "0e102550-fe31-456e-857c-c0485e584250": {
     "id": "0e102550-fe31-456e-857c-c0485e584250",
     "prev": null,
     "regions": {
      "72fe331a-ac7d-4b1c-b242-31d079441307": {
       "attrs": {
        "height": 0.8,
        "width": 0.8,
        "x": 0.1,
        "y": 0.1
       },
       "content": {
        "cell": "485252c2-1bd2-4c0d-bc28-8bba9577897b",
        "part": "whole"
       },
       "id": "72fe331a-ac7d-4b1c-b242-31d079441307"
      }
     }
    },
    "3520bda3-e860-4fd4-884a-a0caf6e665e9": {
     "id": "3520bda3-e860-4fd4-884a-a0caf6e665e9",
     "prev": "d21381df-3205-4870-88ed-45760673fbbd",
     "regions": {
      "3d327626-0938-490a-9dfd-48eb2341ed20": {
       "attrs": {
        "height": 0.8,
        "width": 0.8,
        "x": 0.1,
        "y": 0.1
       },
       "content": {
        "cell": "0709eab3-1f7f-45c2-a718-6627bb524e61",
        "part": "whole"
       },
       "id": "3d327626-0938-490a-9dfd-48eb2341ed20"
      }
     }
    },
    "d21381df-3205-4870-88ed-45760673fbbd": {
     "id": "d21381df-3205-4870-88ed-45760673fbbd",
     "prev": "f0134781-6282-4ef7-83aa-7f0b8926c117",
     "regions": {
      "461be3b1-8dd9-4c82-aef1-b3c2d6496f48": {
       "attrs": {
        "height": 0.8,
        "width": 0.8,
        "x": 0.1,
        "y": 0.1
       },
       "content": {
        "cell": "d675781c-dd40-40d6-990a-17378b7a7515",
        "part": "whole"
       },
       "id": "461be3b1-8dd9-4c82-aef1-b3c2d6496f48"
      }
     },
     "theme": null
    },
    "f0134781-6282-4ef7-83aa-7f0b8926c117": {
     "id": "f0134781-6282-4ef7-83aa-7f0b8926c117",
     "prev": "0e102550-fe31-456e-857c-c0485e584250",
     "regions": {
      "74055ff3-36d2-42de-a45c-36150248b8f2": {
       "attrs": {
        "height": 0.8,
        "width": 0.8,
        "x": 0.1,
        "y": 0.1
       },
       "content": {
        "cell": "9d04679c-1006-4fd0-ad6d-f04e13e82fe0",
        "part": "whole"
       },
       "id": "74055ff3-36d2-42de-a45c-36150248b8f2"
      }
     }
    }
   },
   "themes": {
    "default": "22183c17-9745-4bb1-b4ae-1af111115586",
    "theme": {
     "22183c17-9745-4bb1-b4ae-1af111115586": {
      "id": "22183c17-9745-4bb1-b4ae-1af111115586",
      "palette": {
       "19cc588f-0593-49c9-9f4b-e4d7cc113b1c": {
        "id": "19cc588f-0593-49c9-9f4b-e4d7cc113b1c",
        "rgb": [
         252,
         252,
         252
        ]
       },
       "31af15d2-7e15-44c5-ab5e-e04b16a89eff": {
        "id": "31af15d2-7e15-44c5-ab5e-e04b16a89eff",
        "rgb": [
         68,
         68,
         68
        ]
       },
       "50f92c45-a630-455b-aec3-788680ec7410": {
        "id": "50f92c45-a630-455b-aec3-788680ec7410",
        "rgb": [
         155,
         177,
         192
        ]
       },
       "c5cc3653-2ee1-402a-aba2-7caae1da4f6c": {
        "id": "c5cc3653-2ee1-402a-aba2-7caae1da4f6c",
        "rgb": [
         43,
         126,
         184
        ]
       },
       "efa7f048-9acb-414c-8b04-a26811511a21": {
        "id": "efa7f048-9acb-414c-8b04-a26811511a21",
        "rgb": [
         25.118061674008803,
         73.60176211453744,
         107.4819383259912
        ]
       }
      },
      "rules": {
       "blockquote": {
        "color": "50f92c45-a630-455b-aec3-788680ec7410"
       },
       "code": {
        "font-family": "Anonymous Pro"
       },
       "h1": {
        "color": "c5cc3653-2ee1-402a-aba2-7caae1da4f6c",
        "font-family": "Lato",
        "font-size": 8
       },
       "h2": {
        "color": "c5cc3653-2ee1-402a-aba2-7caae1da4f6c",
        "font-family": "Lato",
        "font-size": 6
       },
       "h3": {
        "color": "50f92c45-a630-455b-aec3-788680ec7410",
        "font-family": "Lato",
        "font-size": 5.5
       },
       "h4": {
        "color": "c5cc3653-2ee1-402a-aba2-7caae1da4f6c",
        "font-family": "Lato",
        "font-size": 5
       },
       "h5": {
        "font-family": "Lato"
       },
       "h6": {
        "font-family": "Lato"
       },
       "h7": {
        "font-family": "Lato"
       },
       "pre": {
        "font-family": "Anonymous Pro",
        "font-size": 4
       }
      },
      "text-base": {
       "font-family": "Merriweather",
       "font-size": 4
      }
     },
     "e135094e-af81-4ba4-8e45-0a970fb0ec81": {
      "id": "e135094e-af81-4ba4-8e45-0a970fb0ec81",
      "palette": {
       "19cc588f-0593-49c9-9f4b-e4d7cc113b1c": {
        "id": "19cc588f-0593-49c9-9f4b-e4d7cc113b1c",
        "rgb": [
         252,
         252,
         252
        ]
       },
       "31af15d2-7e15-44c5-ab5e-e04b16a89eff": {
        "id": "31af15d2-7e15-44c5-ab5e-e04b16a89eff",
        "rgb": [
         68,
         68,
         68
        ]
       },
       "50f92c45-a630-455b-aec3-788680ec7410": {
        "id": "50f92c45-a630-455b-aec3-788680ec7410",
        "rgb": [
         155,
         177,
         192
        ]
       },
       "c5cc3653-2ee1-402a-aba2-7caae1da4f6c": {
        "id": "c5cc3653-2ee1-402a-aba2-7caae1da4f6c",
        "rgb": [
         43,
         126,
         184
        ]
       },
       "efa7f048-9acb-414c-8b04-a26811511a21": {
        "id": "efa7f048-9acb-414c-8b04-a26811511a21",
        "rgb": [
         25.118061674008803,
         73.60176211453744,
         107.4819383259912
        ]
       }
      },
      "rules": {
       "blockquote": {
        "color": "50f92c45-a630-455b-aec3-788680ec7410"
       },
       "code": {
        "font-family": "Anonymous Pro"
       },
       "h1": {
        "color": "c5cc3653-2ee1-402a-aba2-7caae1da4f6c",
        "font-family": "Lato",
        "font-size": 8
       },
       "h2": {
        "color": "c5cc3653-2ee1-402a-aba2-7caae1da4f6c",
        "font-family": "Lato",
        "font-size": 6
       },
       "h3": {
        "color": "50f92c45-a630-455b-aec3-788680ec7410",
        "font-family": "Lato",
        "font-size": 5.5
       },
       "h4": {
        "color": "c5cc3653-2ee1-402a-aba2-7caae1da4f6c",
        "font-family": "Lato",
        "font-size": 5
       },
       "h5": {
        "font-family": "Lato"
       },
       "h6": {
        "font-family": "Lato"
       },
       "h7": {
        "font-family": "Lato"
       },
       "pre": {
        "font-family": "Anonymous Pro",
        "font-size": 4
       }
      },
      "text-base": {
       "font-family": "Merriweather",
       "font-size": 4
      }
     }
    }
   }
  },
  "widgets": {
   "application/vnd.jupyter.widget-state+json": {
    "state": {
     "0d9eb31153a643d383e3d0d27d4185ad": {
      "model_module": "@jupyter-widgets/base",
      "model_module_version": "1.2.0",
      "model_name": "LayoutModel",
      "state": {}
     },
     "104cbdead7d449f683017bfeb97474b2": {
      "model_module": "@jupyter-widgets/base",
      "model_module_version": "1.2.0",
      "model_name": "LayoutModel",
      "state": {}
     },
     "14e03ce9729c4c4cbd0d24b45c884d66": {
      "model_module": "@jupyter-widgets/controls",
      "model_module_version": "1.5.0",
      "model_name": "VBoxModel",
      "state": {
       "_dom_classes": [
        "widget-interact"
       ],
       "children": [
        "IPY_MODEL_c806d0ee860e4e99ae2c4152d6d78f4e",
        "IPY_MODEL_9daa55349b3d442c8afaa8a5dfe866b0",
        "IPY_MODEL_94830605e22d4069996f45f459212fb3"
       ],
       "layout": "IPY_MODEL_1e5bec98da404a8295a75197225d3cb4"
      }
     },
     "1c1b2dc777724902b0eaafbeb8f15586": {
      "model_module": "@jupyter-widgets/base",
      "model_module_version": "1.2.0",
      "model_name": "LayoutModel",
      "state": {}
     },
     "1d42db5d20064ce4b1602433d41969f8": {
      "model_module": "@jupyter-widgets/base",
      "model_module_version": "1.2.0",
      "model_name": "LayoutModel",
      "state": {}
     },
     "1e5bec98da404a8295a75197225d3cb4": {
      "model_module": "@jupyter-widgets/base",
      "model_module_version": "1.2.0",
      "model_name": "LayoutModel",
      "state": {}
     },
     "209c0cc5692b4f76abb98c465311256f": {
      "model_module": "@jupyter-widgets/controls",
      "model_module_version": "1.5.0",
      "model_name": "FloatSliderModel",
      "state": {
       "description": "k",
       "layout": "IPY_MODEL_dcd4e8772a0d4d3d87ebfa4b9a5bafca",
       "max": 10,
       "min": 0.1,
       "step": 0.1,
       "style": "IPY_MODEL_d0c800c59e164ad38c8cbb8efcd52a51",
       "value": 10
      }
     },
     "3bff6dded5cf4facb025375c23f55dbe": {
      "model_module": "@jupyter-widgets/base",
      "model_module_version": "1.2.0",
      "model_name": "LayoutModel",
      "state": {}
     },
     "3f207c79af72482d8336b33b076526e4": {
      "model_module": "@jupyter-widgets/base",
      "model_module_version": "1.2.0",
      "model_name": "LayoutModel",
      "state": {}
     },
     "3f5ad32e6aba428cbf8b2301e53c0fa3": {
      "model_module": "@jupyter-widgets/controls",
      "model_module_version": "1.5.0",
      "model_name": "IntSliderModel",
      "state": {
       "description": "k",
       "layout": "IPY_MODEL_f5a9e6584f7c41ea8880e6e86a77fc50",
       "max": 10,
       "min": 1,
       "style": "IPY_MODEL_f056922fe928440ba3582908270f022c",
       "value": 1
      }
     },
     "505c2e1cc8624eeba91b262f1e98c38f": {
      "model_module": "@jupyter-widgets/output",
      "model_module_version": "1.0.0",
      "model_name": "OutputModel",
      "state": {
       "layout": "IPY_MODEL_104cbdead7d449f683017bfeb97474b2",
       "outputs": [
        {
         "data": {
          "image/png": "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\n",
          "text/plain": "<Figure size 576x576 with 2 Axes>"
         },
         "metadata": {
          "needs_background": "light"
         },
         "output_type": "display_data"
        }
       ]
      }
     },
     "5eebf9d0f23a4cd89f3f195b20ceb8f6": {
      "model_module": "@jupyter-widgets/controls",
      "model_module_version": "1.5.0",
      "model_name": "VBoxModel",
      "state": {
       "_dom_classes": [
        "widget-interact"
       ],
       "children": [
        "IPY_MODEL_209c0cc5692b4f76abb98c465311256f",
        "IPY_MODEL_8327cf4c9fe64cc8a9f3da611187c129"
       ],
       "layout": "IPY_MODEL_79a46c7387914224b4db60008ecfe485"
      }
     },
     "79a46c7387914224b4db60008ecfe485": {
      "model_module": "@jupyter-widgets/base",
      "model_module_version": "1.2.0",
      "model_name": "LayoutModel",
      "state": {}
     },
     "8326e5b01cbd4a34aac59e625a909cc2": {
      "model_module": "@jupyter-widgets/base",
      "model_module_version": "1.2.0",
      "model_name": "LayoutModel",
      "state": {}
     },
     "8327cf4c9fe64cc8a9f3da611187c129": {
      "model_module": "@jupyter-widgets/output",
      "model_module_version": "1.0.0",
      "model_name": "OutputModel",
      "state": {
       "layout": "IPY_MODEL_1d42db5d20064ce4b1602433d41969f8",
       "outputs": [
        {
         "data": {
          "image/png": "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\n",
          "text/plain": "<Figure size 576x576 with 2 Axes>"
         },
         "metadata": {
          "needs_background": "light"
         },
         "output_type": "display_data"
        }
       ]
      }
     },
     "94830605e22d4069996f45f459212fb3": {
      "model_module": "@jupyter-widgets/output",
      "model_module_version": "1.0.0",
      "model_name": "OutputModel",
      "state": {
       "layout": "IPY_MODEL_a23ccea5f11f4f6791f7ba7aa1b38730",
       "outputs": [
        {
         "data": {
          "image/png": "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\n",
          "text/plain": "<Figure size 576x576 with 1 Axes>"
         },
         "metadata": {
          "needs_background": "light"
         },
         "output_type": "display_data"
        }
       ]
      }
     },
     "9daa55349b3d442c8afaa8a5dfe866b0": {
      "model_module": "@jupyter-widgets/controls",
      "model_module_version": "1.5.0",
      "model_name": "IntSliderModel",
      "state": {
       "description": "k",
       "layout": "IPY_MODEL_3f207c79af72482d8336b33b076526e4",
       "max": 10,
       "min": 1,
       "style": "IPY_MODEL_de2834fa9b2a4121a36d1ab42b936a81",
       "value": 10
      }
     },
     "a1241c4cc90b44b2a3ce47a060338b1a": {
      "model_module": "@jupyter-widgets/controls",
      "model_module_version": "1.5.0",
      "model_name": "SliderStyleModel",
      "state": {
       "description_width": ""
      }
     },
     "a23ccea5f11f4f6791f7ba7aa1b38730": {
      "model_module": "@jupyter-widgets/base",
      "model_module_version": "1.2.0",
      "model_name": "LayoutModel",
      "state": {}
     },
     "b0c44add59b94de587dc31bd19403d72": {
      "model_module": "@jupyter-widgets/controls",
      "model_module_version": "1.5.0",
      "model_name": "VBoxModel",
      "state": {
       "_dom_classes": [
        "widget-interact"
       ],
       "children": [
        "IPY_MODEL_fdb07093d9ce4a4088332e67319e567f",
        "IPY_MODEL_505c2e1cc8624eeba91b262f1e98c38f"
       ],
       "layout": "IPY_MODEL_fe04e2bbd63a4eb289850a37a72f91e7"
      }
     },
     "bf719284eddc4599ae0c65e0d9aa933b": {
      "model_module": "@jupyter-widgets/controls",
      "model_module_version": "1.5.0",
      "model_name": "VBoxModel",
      "state": {
       "_dom_classes": [
        "widget-interact"
       ],
       "children": [
        "IPY_MODEL_f9f411d75766432baac03f7e6a15cec8",
        "IPY_MODEL_3f5ad32e6aba428cbf8b2301e53c0fa3",
        "IPY_MODEL_da3b9c1dd0ba412db46b72983b73a7fd"
       ],
       "layout": "IPY_MODEL_1c1b2dc777724902b0eaafbeb8f15586"
      }
     },
     "c806d0ee860e4e99ae2c4152d6d78f4e": {
      "model_module": "@jupyter-widgets/controls",
      "model_module_version": "1.5.0",
      "model_name": "FloatSliderModel",
      "state": {
       "description": "x",
       "layout": "IPY_MODEL_3bff6dded5cf4facb025375c23f55dbe",
       "max": 10,
       "min": 0.1,
       "step": 0.1,
       "style": "IPY_MODEL_d7cb905203df4e15ae8832ea1be65a18",
       "value": 0.1
      }
     },
     "d0c800c59e164ad38c8cbb8efcd52a51": {
      "model_module": "@jupyter-widgets/controls",
      "model_module_version": "1.5.0",
      "model_name": "SliderStyleModel",
      "state": {
       "description_width": ""
      }
     },
     "d7cb905203df4e15ae8832ea1be65a18": {
      "model_module": "@jupyter-widgets/controls",
      "model_module_version": "1.5.0",
      "model_name": "SliderStyleModel",
      "state": {
       "description_width": ""
      }
     },
     "da3b9c1dd0ba412db46b72983b73a7fd": {
      "model_module": "@jupyter-widgets/output",
      "model_module_version": "1.0.0",
      "model_name": "OutputModel",
      "state": {
       "layout": "IPY_MODEL_0d9eb31153a643d383e3d0d27d4185ad",
       "outputs": [
        {
         "data": {
          "image/png": "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\n",
          "text/plain": "<Figure size 576x576 with 1 Axes>"
         },
         "metadata": {
          "needs_background": "light"
         },
         "output_type": "display_data"
        }
       ]
      }
     },
     "dcd4e8772a0d4d3d87ebfa4b9a5bafca": {
      "model_module": "@jupyter-widgets/base",
      "model_module_version": "1.2.0",
      "model_name": "LayoutModel",
      "state": {}
     },
     "de2834fa9b2a4121a36d1ab42b936a81": {
      "model_module": "@jupyter-widgets/controls",
      "model_module_version": "1.5.0",
      "model_name": "SliderStyleModel",
      "state": {
       "description_width": ""
      }
     },
     "df2c7a84ad1e4812bce1bb6254eaa001": {
      "model_module": "@jupyter-widgets/controls",
      "model_module_version": "1.5.0",
      "model_name": "SliderStyleModel",
      "state": {
       "description_width": ""
      }
     },
     "e3ca5ae74c2d4187aebfff8f1513a7c3": {
      "model_module": "@jupyter-widgets/base",
      "model_module_version": "1.2.0",
      "model_name": "LayoutModel",
      "state": {}
     },
     "f056922fe928440ba3582908270f022c": {
      "model_module": "@jupyter-widgets/controls",
      "model_module_version": "1.5.0",
      "model_name": "SliderStyleModel",
      "state": {
       "description_width": ""
      }
     },
     "f5a9e6584f7c41ea8880e6e86a77fc50": {
      "model_module": "@jupyter-widgets/base",
      "model_module_version": "1.2.0",
      "model_name": "LayoutModel",
      "state": {}
     },
     "f9f411d75766432baac03f7e6a15cec8": {
      "model_module": "@jupyter-widgets/controls",
      "model_module_version": "1.5.0",
      "model_name": "FloatSliderModel",
      "state": {
       "description": "x",
       "layout": "IPY_MODEL_8326e5b01cbd4a34aac59e625a909cc2",
       "max": 10,
       "min": 0.1,
       "step": 0.1,
       "style": "IPY_MODEL_a1241c4cc90b44b2a3ce47a060338b1a",
       "value": 5
      }
     },
     "fdb07093d9ce4a4088332e67319e567f": {
      "model_module": "@jupyter-widgets/controls",
      "model_module_version": "1.5.0",
      "model_name": "FloatSliderModel",
      "state": {
       "description": "k",
       "layout": "IPY_MODEL_e3ca5ae74c2d4187aebfff8f1513a7c3",
       "max": 10,
       "min": 0.1,
       "step": 0.1,
       "style": "IPY_MODEL_df2c7a84ad1e4812bce1bb6254eaa001",
       "value": 10
      }
     },
     "fe04e2bbd63a4eb289850a37a72f91e7": {
      "model_module": "@jupyter-widgets/base",
      "model_module_version": "1.2.0",
      "model_name": "LayoutModel",
      "state": {}
     }
    },
    "version_major": 2,
    "version_minor": 0
   }
  }
 },
 "nbformat": 4,
 "nbformat_minor": 1
}
